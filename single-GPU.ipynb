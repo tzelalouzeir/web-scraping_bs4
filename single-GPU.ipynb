{
 "cells": [
  {
   "cell_type": "code",
   "execution_count": 14,
   "id": "2820e00a-d808-46f6-bb95-2a9d9e66a753",
   "metadata": {},
   "outputs": [],
   "source": [
    "from urllib.request import Request, urlopen\n",
    "from bs4 import BeautifulSoup as soup  \n",
    "import pandas as pd\n",
    "import re\n",
    "from csv import writer\n",
    "import csv\n",
    "from itertools import chain\n",
    "\n",
    "url = 'https://www.bestprice.gr/item/2156396846/sapphire-radeon-rx-6800-16gb-nitro.html'\n",
    "req = Request(url , headers={'User-Agent': 'Mozilla/5.0'})\n",
    "\n",
    "webpage = urlopen(req).read()\n",
    "soup = soup(webpage, \"html.parser\")"
   ]
  },
  {
   "cell_type": "code",
   "execution_count": 17,
   "id": "c7528bed-ccef-40a0-9775-6df44c6c14f2",
   "metadata": {},
   "outputs": [],
   "source": [
    "# specify which column will be scraped in html code\n",
    "lists = soup.find_all('div',attrs={'class':'prices__group'})\n",
    "\n",
    "# create list for table\n",
    "title_data=[]\n",
    "price_data=[]\n",
    "link_data=[]\n",
    "\n",
    "# using for loop for getting all information that we want\n",
    "for i in lists:\n",
    "    title = i.find('div', attrs={'class':'prices__title'}).text\n",
    "    price = i.find('div', attrs={'class':'prices__price'}).text[:7]\n",
    "    title_data.append(title)\n",
    "    price_data.append(price)\n",
    "    \n",
    "# another loop for href(links that starting with /item/ which they are products)    \n",
    "for a in soup.find('div').find_all('a', href=re.compile('^/item/')):\n",
    "    link_data.append(a['href'])\n",
    "    \n",
    "# while we are working on greek sites remove greek characters\n",
    "greek_codes   = chain(range(0x370, 0x3e2), range(0x3f0, 0x400))\n",
    "greek_symbols = (chr(c) for c in greek_codes)\n",
    "greek_letters = [c for c in greek_symbols if c.isalpha()]\n",
    "str1 = ''.join(greek_letters)\n",
    "removetable = str.maketrans('','',str1)\n",
    "out_list = [s.translate(removetable) for s in title_data]\n",
    "\n",
    "# links need some page starting so which is bestprice.gr for me\n",
    "link_data = list(dict.fromkeys(link_data))\n",
    "link_head = 'https://www.bestprice.gr'\n",
    "list3=pd.DataFrame(columns=link_data).add_prefix(link_head).columns.tolist()\n",
    "\n",
    "\n",
    "#print(list3)    \n",
    "#print(\"Title:\",out_list)\n",
    "#print(\"Price:\",price_data)\n",
    "#print(\"Link:\",list3)\n"
   ]
  },
  {
   "cell_type": "code",
   "execution_count": 18,
   "id": "007ef7c7-8c12-427f-bc21-fcaa4bdd7a9e",
   "metadata": {},
   "outputs": [],
   "source": [
    "# Saving results to CSV file \n",
    "with open(\"gpu/6800.csv\", \"w\", encoding='utf-8',newline='') as csvfile:\n",
    "    writer = csv.writer(csvfile)\n",
    "    header = ['Titles','Prices','Links']\n",
    "    writer.writerow(header)\n",
    "    for value in range(len(out_list)):\n",
    "        writer.writerow([out_list[value], price_data[value], list3[value]])"
   ]
  },
  {
   "cell_type": "code",
   "execution_count": null,
   "id": "ec7c5e38-7bda-42da-bfc9-5c6d17598c7c",
   "metadata": {},
   "outputs": [],
   "source": []
  }
 ],
 "metadata": {
  "kernelspec": {
   "display_name": "Python 3 (ipykernel)",
   "language": "python",
   "name": "python3"
  },
  "language_info": {
   "codemirror_mode": {
    "name": "ipython",
    "version": 3
   },
   "file_extension": ".py",
   "mimetype": "text/x-python",
   "name": "python",
   "nbconvert_exporter": "python",
   "pygments_lexer": "ipython3",
   "version": "3.10.5"
  }
 },
 "nbformat": 4,
 "nbformat_minor": 5
}
